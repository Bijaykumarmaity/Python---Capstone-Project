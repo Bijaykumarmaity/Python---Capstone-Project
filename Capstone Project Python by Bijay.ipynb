{
 "cells": [
  {
   "cell_type": "code",
   "execution_count": 4,
   "id": "38511b30-1fa3-46fa-9982-2778be42929e",
   "metadata": {},
   "outputs": [],
   "source": [
    "#Task 1\n",
    "#There are three different tables as given above. Please make three dataframe in python \n",
    "#and save them as three .csv files. From Task 2 to Task 10, use the saved .csv files only"
   ]
  },
  {
   "cell_type": "code",
   "execution_count": 220,
   "id": "3e4b0625-98ad-42b8-8a74-94e10c66a4b2",
   "metadata": {},
   "outputs": [
    {
     "name": "stdout",
     "output_type": "stream",
     "text": [
      "Three DataFrame CSV Created Successfully!\n"
     ]
    }
   ],
   "source": [
    "## Importing required libraries\n",
    "import pandas as pd\n",
    "import numpy as np\n",
    "\n",
    "## Creating Project DataFrame\n",
    "project_data = {\n",
    "    'ID': ['A001', 'A002', 'A003', 'A004', 'A005', 'A002', 'A005', 'A003', 'A001', 'A003', 'A001', 'A004', 'A004', 'A005'],\n",
    "    'Project': [\"Project 1\", \"Project 2\", \"Project 3\", \"Project 4\", \"Project 5\", \"Project 6\", \"Project 7\", \"Project 8\", \"Project 9\", \"Project 10\", \"Project 11\", \"Project 12\", \"Project 13\", \"Project 14\"],\n",
    "    'Cost': [1002000, 2000000, 4500000, 5500000, np.nan, 680000, 400000, 350000, np.nan, 300000, 2000000, 1000000, 3000000, 200000],\n",
    "    'Status': ['Finished', 'Ongoing', 'Finished', 'Ongoing', 'Finished', 'Failed', 'Finished', 'Failed', 'Ongoing', 'Finished', 'Failed', 'Ongoing', 'Finished', 'Finished']\n",
    "}\n",
    "project_df = pd.DataFrame(project_data)\n",
    "\n",
    "\n",
    "## Creating Employee DataFrame\n",
    "employee_data = {\n",
    "    'ID': ['A001', 'A002', 'A003', 'A004', 'A005'],\n",
    "    'Name': ['John Alter', 'Alice Luxumberg', 'Tom Sabestine', 'Nina Adgra', 'Amy Johny'],\n",
    "    'Gender': ['M', 'F', 'M', 'F', 'F'],\n",
    "    'City': ['Paris', 'London', 'Berlin', 'Newyork', 'Madrid'],\n",
    "    'Age': [25, 27, 29, 31, 30]\n",
    "}\n",
    "employee_df = pd.DataFrame(employee_data)\n",
    "\n",
    "\n",
    "## Creating Seniority Level DataFrame\n",
    "seniority_data = {\n",
    "    'ID': ['A001', 'A002', 'A003', 'A004', 'A005'],\n",
    "    'Designation Level': [2, 2, 3, 2, 3]\n",
    "}\n",
    "seniority_df = pd.DataFrame(seniority_data)\n",
    "\n",
    "\n",
    "## Saving DataFrames to CSV\n",
    "project_df.to_csv('project.csv', index=False)\n",
    "employee_df.to_csv('employee.csv', index=False)\n",
    "seniority_df.to_csv('seniority.csv', index=False)\n",
    "\n",
    "print(\"Three DataFrame CSV Created Successfully!\")"
   ]
  },
  {
   "cell_type": "code",
   "execution_count": 222,
   "id": "cdda97b5-b535-4009-baff-44572d4c3672",
   "metadata": {},
   "outputs": [
    {
     "name": "stdout",
     "output_type": "stream",
     "text": [
      "      ID     Project       Cost    Status\n",
      "0   A001   Project 1  1002000.0  Finished\n",
      "1   A002   Project 2  2000000.0   Ongoing\n",
      "2   A003   Project 3  4500000.0  Finished\n",
      "3   A004   Project 4  5500000.0   Ongoing\n",
      "4   A005   Project 5        NaN  Finished\n",
      "5   A002   Project 6   680000.0    Failed\n",
      "6   A005   Project 7   400000.0  Finished\n",
      "7   A003   Project 8   350000.0    Failed\n",
      "8   A001   Project 9        NaN   Ongoing\n",
      "9   A003  Project 10   300000.0  Finished\n",
      "10  A001  Project 11  2000000.0    Failed\n",
      "11  A004  Project 12  1000000.0   Ongoing\n",
      "12  A004  Project 13  3000000.0  Finished\n",
      "13  A005  Project 14   200000.0  Finished\n",
      "     ID             Name Gender     City  Age\n",
      "0  A001       John Alter      M    Paris   25\n",
      "1  A002  Alice Luxumberg      F   London   27\n",
      "2  A003    Tom Sabestine      M   Berlin   29\n",
      "3  A004       Nina Adgra      F  Newyork   31\n",
      "4  A005        Amy Johny      F   Madrid   30\n",
      "     ID  Designation Level\n",
      "0  A001                  2\n",
      "1  A002                  2\n",
      "2  A003                  3\n",
      "3  A004                  2\n",
      "4  A005                  3\n"
     ]
    }
   ],
   "source": [
    "## Displaying the DataFrames for rechecking.\n",
    "print(project_df)\n",
    "print(employee_df)\n",
    "print(seniority_df)"
   ]
  },
  {
   "cell_type": "code",
   "execution_count": null,
   "id": "b32f20dd-be4f-4da7-8a48-b0ccf613ed6b",
   "metadata": {},
   "outputs": [],
   "source": []
  },
  {
   "cell_type": "code",
   "execution_count": null,
   "id": "23caa720-19d0-481b-8439-527fe034467a",
   "metadata": {},
   "outputs": [],
   "source": [
    "#Task 2\n",
    "#The cost column in the dataframe “Project” has some missing values. Your task is to\n",
    "#compute these missing values. Replace the missing values by running average. You\n",
    "#should use the “For” loop for this task."
   ]
  },
  {
   "cell_type": "code",
   "execution_count": 224,
   "id": "c8c2dfdc-3c1d-4566-b9b0-6b8fa31b7e84",
   "metadata": {
    "scrolled": true
   },
   "outputs": [
    {
     "name": "stdout",
     "output_type": "stream",
     "text": [
      "      ID     Project        Cost    Status\n",
      "0   A001   Project 1  1002000.00  Finished\n",
      "1   A002   Project 2  2000000.00   Ongoing\n",
      "2   A003   Project 3  4500000.00  Finished\n",
      "3   A004   Project 4  5500000.00   Ongoing\n",
      "4   A005   Project 5  3250500.00  Finished\n",
      "5   A002   Project 6   680000.00    Failed\n",
      "6   A005   Project 7   400000.00  Finished\n",
      "7   A003   Project 8   350000.00    Failed\n",
      "8   A001   Project 9  2061714.29   Ongoing\n",
      "9   A003  Project 10   300000.00  Finished\n",
      "10  A001  Project 11  2000000.00    Failed\n",
      "11  A004  Project 12  1000000.00   Ongoing\n",
      "12  A004  Project 13  3000000.00  Finished\n",
      "13  A005  Project 14   200000.00  Finished\n"
     ]
    }
   ],
   "source": [
    "# Loop to calculate running average and fill missing values\n",
    "running_sum = 0\n",
    "count = 0\n",
    "\n",
    "for index, row in project_df.iterrows():\n",
    "    if pd.isna(row['Cost']):\n",
    "        # Replaceing missing value with the running average\n",
    "        if count > 0:\n",
    "            project_df.at[index, 'Cost'] = running_sum / count\n",
    "    else:\n",
    "        # Updateing running sum and count when the value is not missing\n",
    "        running_sum += row['Cost']\n",
    "        count += 1\n",
    "\n",
    "# Changing the 'Cost' column to float and ensure no scientific notation\n",
    "project_df['Cost'] = project_df['Cost'].apply(lambda x: round(x, 2) if pd.notna(x) else x)\n",
    "\n",
    "# Displaying the updated DataFrame\n",
    "print(project_df)\n"
   ]
  },
  {
   "cell_type": "code",
   "execution_count": null,
   "id": "94c55e1e-0993-4fa8-ab66-574ff70e0677",
   "metadata": {},
   "outputs": [],
   "source": []
  },
  {
   "cell_type": "code",
   "execution_count": 42,
   "id": "e91ce9ec-e80e-4893-8458-9a2165b5bae0",
   "metadata": {},
   "outputs": [],
   "source": [
    "#Task 3\n",
    "#Split the name column in the Employee dataframe into two new columns “First Name”,\n",
    "#and “LastName” and remove the older “name” column."
   ]
  },
  {
   "cell_type": "code",
   "execution_count": 226,
   "id": "d797d1ec-df66-486f-a86b-80c9d2aa4037",
   "metadata": {},
   "outputs": [
    {
     "name": "stdout",
     "output_type": "stream",
     "text": [
      "     ID Gender     City  Age First Name  Last Name\n",
      "0  A001      M    Paris   25       John      Alter\n",
      "1  A002      F   London   27      Alice  Luxumberg\n",
      "2  A003      M   Berlin   29        Tom  Sabestine\n",
      "3  A004      F  Newyork   31       Nina      Adgra\n",
      "4  A005      F   Madrid   30        Amy      Johny\n"
     ]
    }
   ],
   "source": [
    "# Reading the employee CSV file\n",
    "employee_df = pd.read_csv('employee.csv')\n",
    "\n",
    "# Spliting the Name column into First Name and Last Name\n",
    "employee_df[['First Name', 'Last Name']] = employee_df['Name'].str.split(' ', expand=True)\n",
    "\n",
    "# Removing the original Name column\n",
    "employee_df = employee_df.drop('Name', axis=1)\n",
    "\n",
    "# Displaying the updated DataFrame\n",
    "print(employee_df)"
   ]
  },
  {
   "cell_type": "code",
   "execution_count": null,
   "id": "b751ce38-726a-4d0c-b5a9-ce8aaaef395e",
   "metadata": {},
   "outputs": [],
   "source": []
  },
  {
   "cell_type": "code",
   "execution_count": null,
   "id": "d768a300-f67c-4981-874f-99e34c46ee4e",
   "metadata": {},
   "outputs": [],
   "source": [
    "#Task 4\n",
    "#Join all three dataframes in one single dataframe. Name it “Final”"
   ]
  },
  {
   "cell_type": "code",
   "execution_count": 228,
   "id": "6e1a6aa4-cbb8-4578-bce0-44bc56d2111d",
   "metadata": {},
   "outputs": [
    {
     "name": "stdout",
     "output_type": "stream",
     "text": [
      "      ID Gender     City  Age First Name  Last Name  Designation Level  \\\n",
      "0   A001      M    Paris   25       John      Alter                  2   \n",
      "1   A001      M    Paris   25       John      Alter                  2   \n",
      "2   A001      M    Paris   25       John      Alter                  2   \n",
      "3   A002      F   London   27      Alice  Luxumberg                  2   \n",
      "4   A002      F   London   27      Alice  Luxumberg                  2   \n",
      "5   A003      M   Berlin   29        Tom  Sabestine                  3   \n",
      "6   A003      M   Berlin   29        Tom  Sabestine                  3   \n",
      "7   A003      M   Berlin   29        Tom  Sabestine                  3   \n",
      "8   A004      F  Newyork   31       Nina      Adgra                  2   \n",
      "9   A004      F  Newyork   31       Nina      Adgra                  2   \n",
      "10  A004      F  Newyork   31       Nina      Adgra                  2   \n",
      "11  A005      F   Madrid   30        Amy      Johny                  3   \n",
      "12  A005      F   Madrid   30        Amy      Johny                  3   \n",
      "13  A005      F   Madrid   30        Amy      Johny                  3   \n",
      "\n",
      "       Project        Cost    Status  \n",
      "0    Project 1  1002000.00  Finished  \n",
      "1    Project 9  2061714.29   Ongoing  \n",
      "2   Project 11  2000000.00    Failed  \n",
      "3    Project 2  2000000.00   Ongoing  \n",
      "4    Project 6   680000.00    Failed  \n",
      "5    Project 3  4500000.00  Finished  \n",
      "6    Project 8   350000.00    Failed  \n",
      "7   Project 10   300000.00  Finished  \n",
      "8    Project 4  5500000.00   Ongoing  \n",
      "9   Project 12  1000000.00   Ongoing  \n",
      "10  Project 13  3000000.00  Finished  \n",
      "11   Project 5  3250500.00  Finished  \n",
      "12   Project 7   400000.00  Finished  \n",
      "13  Project 14   200000.00  Finished  \n"
     ]
    }
   ],
   "source": [
    "## Merging all three DataFrames based on ID\n",
    "final_df = employee_df.merge(seniority_df, on='ID').merge(project_df, on='ID')\n",
    "\n",
    "# Displaying the final DataFrame\n",
    "print(final_df)"
   ]
  },
  {
   "cell_type": "code",
   "execution_count": null,
   "id": "70b83dad-008b-4849-a228-970ca304e843",
   "metadata": {},
   "outputs": [],
   "source": []
  },
  {
   "cell_type": "code",
   "execution_count": null,
   "id": "932f0ea1-59d0-4f0c-8e62-48ca4e49e6f8",
   "metadata": {},
   "outputs": [],
   "source": [
    "#Task 5\n",
    "#Add a new bonus column in the Final dataframe. Give a 5% bonus concerning project \n",
    "#cost only to employees who have finished the projects."
   ]
  },
  {
   "cell_type": "code",
   "execution_count": 230,
   "id": "9c51bdbc-b07b-4496-8649-639c6f1b2460",
   "metadata": {},
   "outputs": [
    {
     "name": "stdout",
     "output_type": "stream",
     "text": [
      "      ID Gender     City  Age First Name  Last Name  Designation Level  \\\n",
      "0   A001      M    Paris   25       John      Alter                  2   \n",
      "1   A001      M    Paris   25       John      Alter                  2   \n",
      "2   A001      M    Paris   25       John      Alter                  2   \n",
      "3   A002      F   London   27      Alice  Luxumberg                  2   \n",
      "4   A002      F   London   27      Alice  Luxumberg                  2   \n",
      "5   A003      M   Berlin   29        Tom  Sabestine                  3   \n",
      "6   A003      M   Berlin   29        Tom  Sabestine                  3   \n",
      "7   A003      M   Berlin   29        Tom  Sabestine                  3   \n",
      "8   A004      F  Newyork   31       Nina      Adgra                  2   \n",
      "9   A004      F  Newyork   31       Nina      Adgra                  2   \n",
      "10  A004      F  Newyork   31       Nina      Adgra                  2   \n",
      "11  A005      F   Madrid   30        Amy      Johny                  3   \n",
      "12  A005      F   Madrid   30        Amy      Johny                  3   \n",
      "13  A005      F   Madrid   30        Amy      Johny                  3   \n",
      "\n",
      "       Project        Cost    Status     Bonus  \n",
      "0    Project 1  1002000.00  Finished   50100.0  \n",
      "1    Project 9  2061714.29   Ongoing       0.0  \n",
      "2   Project 11  2000000.00    Failed       0.0  \n",
      "3    Project 2  2000000.00   Ongoing       0.0  \n",
      "4    Project 6   680000.00    Failed       0.0  \n",
      "5    Project 3  4500000.00  Finished  225000.0  \n",
      "6    Project 8   350000.00    Failed       0.0  \n",
      "7   Project 10   300000.00  Finished   15000.0  \n",
      "8    Project 4  5500000.00   Ongoing       0.0  \n",
      "9   Project 12  1000000.00   Ongoing       0.0  \n",
      "10  Project 13  3000000.00  Finished  150000.0  \n",
      "11   Project 5  3250500.00  Finished  162525.0  \n",
      "12   Project 7   400000.00  Finished   20000.0  \n",
      "13  Project 14   200000.00  Finished   10000.0  \n"
     ]
    }
   ],
   "source": [
    "# Adding a new column 'Bonus' for employees who have finished the project\n",
    "final_df['Bonus'] = final_df.apply(lambda row: 0.05 * row['Cost'] if row['Status'] == 'Finished' else 0, axis=1)\n",
    "\n",
    "# Displaying the updated DataFrame\n",
    "print(final_df)"
   ]
  },
  {
   "cell_type": "code",
   "execution_count": null,
   "id": "efba443c-f04a-4ef1-a6b6-011112fc64c1",
   "metadata": {},
   "outputs": [],
   "source": []
  },
  {
   "cell_type": "code",
   "execution_count": null,
   "id": "9c635631-56de-4452-9e20-af1b492778f8",
   "metadata": {},
   "outputs": [],
   "source": [
    "#Task 6\n",
    "#Demote the designation level by 1, whose projects have status “fail”. Delete the\n",
    "#employees record whose designation level is above 4."
   ]
  },
  {
   "cell_type": "code",
   "execution_count": 232,
   "id": "ebfbcee4-a739-4fe2-abc7-574662610019",
   "metadata": {},
   "outputs": [
    {
     "name": "stdout",
     "output_type": "stream",
     "text": [
      "      ID Gender     City  Age First Name  Last Name  Designation Level  \\\n",
      "0   A001      M    Paris   25       John      Alter                  2   \n",
      "1   A001      M    Paris   25       John      Alter                  2   \n",
      "2   A001      M    Paris   25       John      Alter                  1   \n",
      "3   A002      F   London   27      Alice  Luxumberg                  2   \n",
      "4   A002      F   London   27      Alice  Luxumberg                  1   \n",
      "5   A003      M   Berlin   29        Tom  Sabestine                  3   \n",
      "6   A003      M   Berlin   29        Tom  Sabestine                  2   \n",
      "7   A003      M   Berlin   29        Tom  Sabestine                  3   \n",
      "8   A004      F  Newyork   31       Nina      Adgra                  2   \n",
      "9   A004      F  Newyork   31       Nina      Adgra                  2   \n",
      "10  A004      F  Newyork   31       Nina      Adgra                  2   \n",
      "11  A005      F   Madrid   30        Amy      Johny                  3   \n",
      "12  A005      F   Madrid   30        Amy      Johny                  3   \n",
      "13  A005      F   Madrid   30        Amy      Johny                  3   \n",
      "\n",
      "       Project        Cost    Status     Bonus  \n",
      "0    Project 1  1002000.00  Finished   50100.0  \n",
      "1    Project 9  2061714.29   Ongoing       0.0  \n",
      "2   Project 11  2000000.00    Failed       0.0  \n",
      "3    Project 2  2000000.00   Ongoing       0.0  \n",
      "4    Project 6   680000.00    Failed       0.0  \n",
      "5    Project 3  4500000.00  Finished  225000.0  \n",
      "6    Project 8   350000.00    Failed       0.0  \n",
      "7   Project 10   300000.00  Finished   15000.0  \n",
      "8    Project 4  5500000.00   Ongoing       0.0  \n",
      "9   Project 12  1000000.00   Ongoing       0.0  \n",
      "10  Project 13  3000000.00  Finished  150000.0  \n",
      "11   Project 5  3250500.00  Finished  162525.0  \n",
      "12   Project 7   400000.00  Finished   20000.0  \n",
      "13  Project 14   200000.00  Finished   10000.0  \n"
     ]
    }
   ],
   "source": [
    "# Demoting the Designation Level by 1 for employees whose project status is \"Failed\"\n",
    "final_df.loc[final_df['Status'] == 'Failed', 'Designation Level'] -= 1\n",
    "\n",
    "# Deleting employees whose Designation Level is above 4\n",
    "final_df = final_df[final_df['Designation Level'] <= 4]\n",
    "\n",
    "# Displaying the updated DataFrame\n",
    "print(final_df)\n"
   ]
  },
  {
   "cell_type": "code",
   "execution_count": null,
   "id": "dfde6aaf-a0c9-412d-a2c3-52ccac36b7c4",
   "metadata": {},
   "outputs": [],
   "source": []
  },
  {
   "cell_type": "code",
   "execution_count": null,
   "id": "6b4d5acc-2d45-40aa-bdb5-ebd6992938d0",
   "metadata": {},
   "outputs": [],
   "source": [
    "#Task 7\n",
    "#Add “Mr.” and “Mrs.” to the first name column and drop the gender column."
   ]
  },
  {
   "cell_type": "code",
   "execution_count": 234,
   "id": "26add56a-8e95-48a4-8773-fff9dc504dbd",
   "metadata": {},
   "outputs": [
    {
     "name": "stdout",
     "output_type": "stream",
     "text": [
      "      ID     City  Age  First Name  Last Name  Designation Level     Project  \\\n",
      "0   A001    Paris   25    Mr. John      Alter                  2   Project 1   \n",
      "1   A001    Paris   25    Mr. John      Alter                  2   Project 9   \n",
      "2   A001    Paris   25    Mr. John      Alter                  1  Project 11   \n",
      "3   A002   London   27  Mrs. Alice  Luxumberg                  2   Project 2   \n",
      "4   A002   London   27  Mrs. Alice  Luxumberg                  1   Project 6   \n",
      "5   A003   Berlin   29     Mr. Tom  Sabestine                  3   Project 3   \n",
      "6   A003   Berlin   29     Mr. Tom  Sabestine                  2   Project 8   \n",
      "7   A003   Berlin   29     Mr. Tom  Sabestine                  3  Project 10   \n",
      "8   A004  Newyork   31   Mrs. Nina      Adgra                  2   Project 4   \n",
      "9   A004  Newyork   31   Mrs. Nina      Adgra                  2  Project 12   \n",
      "10  A004  Newyork   31   Mrs. Nina      Adgra                  2  Project 13   \n",
      "11  A005   Madrid   30    Mrs. Amy      Johny                  3   Project 5   \n",
      "12  A005   Madrid   30    Mrs. Amy      Johny                  3   Project 7   \n",
      "13  A005   Madrid   30    Mrs. Amy      Johny                  3  Project 14   \n",
      "\n",
      "          Cost    Status     Bonus  \n",
      "0   1002000.00  Finished   50100.0  \n",
      "1   2061714.29   Ongoing       0.0  \n",
      "2   2000000.00    Failed       0.0  \n",
      "3   2000000.00   Ongoing       0.0  \n",
      "4    680000.00    Failed       0.0  \n",
      "5   4500000.00  Finished  225000.0  \n",
      "6    350000.00    Failed       0.0  \n",
      "7    300000.00  Finished   15000.0  \n",
      "8   5500000.00   Ongoing       0.0  \n",
      "9   1000000.00   Ongoing       0.0  \n",
      "10  3000000.00  Finished  150000.0  \n",
      "11  3250500.00  Finished  162525.0  \n",
      "12   400000.00  Finished   20000.0  \n",
      "13   200000.00  Finished   10000.0  \n"
     ]
    }
   ],
   "source": [
    "# Adding appropriate title based on gender\n",
    "final_df['First Name'] = np.where(final_df['Gender'] == 'M', \n",
    "                                 'Mr. ' + final_df['First Name'],\n",
    "                                 'Mrs. ' + final_df['First Name'])\n",
    "\n",
    "# Removing gender column\n",
    "final_df = final_df.drop('Gender', axis=1)\n",
    "\n",
    "# Displaying the updated final DataFrame\n",
    "print(final_df)"
   ]
  },
  {
   "cell_type": "code",
   "execution_count": null,
   "id": "37897c3a-f026-4b96-8634-1f35c61ca523",
   "metadata": {},
   "outputs": [],
   "source": []
  },
  {
   "cell_type": "code",
   "execution_count": null,
   "id": "f97f4eae-4084-4f2e-89ed-081e6f8fe052",
   "metadata": {},
   "outputs": [],
   "source": [
    "#Task 8\n",
    "#Promote designation level by 1 for the employees whose age is more than 29 years using IF condition."
   ]
  },
  {
   "cell_type": "code",
   "execution_count": 236,
   "id": "44bf658d-2cb1-4a77-b779-73ffbdc66637",
   "metadata": {},
   "outputs": [
    {
     "name": "stdout",
     "output_type": "stream",
     "text": [
      "      ID     City  Age  First Name  Last Name  Designation Level     Project  \\\n",
      "0   A001    Paris   25    Mr. John      Alter                  2   Project 1   \n",
      "1   A001    Paris   25    Mr. John      Alter                  2   Project 9   \n",
      "2   A001    Paris   25    Mr. John      Alter                  1  Project 11   \n",
      "3   A002   London   27  Mrs. Alice  Luxumberg                  2   Project 2   \n",
      "4   A002   London   27  Mrs. Alice  Luxumberg                  1   Project 6   \n",
      "5   A003   Berlin   29     Mr. Tom  Sabestine                  3   Project 3   \n",
      "6   A003   Berlin   29     Mr. Tom  Sabestine                  2   Project 8   \n",
      "7   A003   Berlin   29     Mr. Tom  Sabestine                  3  Project 10   \n",
      "8   A004  Newyork   31   Mrs. Nina      Adgra                  3   Project 4   \n",
      "9   A004  Newyork   31   Mrs. Nina      Adgra                  3  Project 12   \n",
      "10  A004  Newyork   31   Mrs. Nina      Adgra                  3  Project 13   \n",
      "11  A005   Madrid   30    Mrs. Amy      Johny                  4   Project 5   \n",
      "12  A005   Madrid   30    Mrs. Amy      Johny                  4   Project 7   \n",
      "13  A005   Madrid   30    Mrs. Amy      Johny                  4  Project 14   \n",
      "\n",
      "          Cost    Status     Bonus  \n",
      "0   1002000.00  Finished   50100.0  \n",
      "1   2061714.29   Ongoing       0.0  \n",
      "2   2000000.00    Failed       0.0  \n",
      "3   2000000.00   Ongoing       0.0  \n",
      "4    680000.00    Failed       0.0  \n",
      "5   4500000.00  Finished  225000.0  \n",
      "6    350000.00    Failed       0.0  \n",
      "7    300000.00  Finished   15000.0  \n",
      "8   5500000.00   Ongoing       0.0  \n",
      "9   1000000.00   Ongoing       0.0  \n",
      "10  3000000.00  Finished  150000.0  \n",
      "11  3250500.00  Finished  162525.0  \n",
      "12   400000.00  Finished   20000.0  \n",
      "13   200000.00  Finished   10000.0  \n"
     ]
    }
   ],
   "source": [
    "# Using a for loop to promote Designation Level for employees whose age is more than 29\n",
    "for index, row in final_df.iterrows():\n",
    "    # Checking if age is more than 29\n",
    "    if row['Age'] > 29:\n",
    "        # Promoting Designation Level by 1\n",
    "        final_df.at[index, 'Designation Level'] += 1\n",
    "\n",
    "# Displaying the updated DataFrame\n",
    "print(final_df)\n"
   ]
  },
  {
   "cell_type": "code",
   "execution_count": null,
   "id": "1429e567-2609-46bf-9ca4-537990c0ac2a",
   "metadata": {},
   "outputs": [],
   "source": []
  },
  {
   "cell_type": "code",
   "execution_count": null,
   "id": "3a9a40f0-503f-4c1f-ad54-7dfe18dc2b4e",
   "metadata": {},
   "outputs": [],
   "source": [
    "#Task 9\n",
    "#Add the cost of all projects for each Employee and save it in new dataframe “TotalProjCost” with three columns ID, First Name, and Total cost"
   ]
  },
  {
   "cell_type": "code",
   "execution_count": 238,
   "id": "7745b62a-ef24-4a81-bc00-b6ced634fc0b",
   "metadata": {},
   "outputs": [
    {
     "name": "stdout",
     "output_type": "stream",
     "text": [
      "     ID  First Name  Total cost\n",
      "0  A001    Mr. John  5063714.29\n",
      "1  A002  Mrs. Alice  2680000.00\n",
      "2  A003     Mr. Tom  5150000.00\n",
      "3  A004   Mrs. Nina  9500000.00\n",
      "4  A005    Mrs. Amy  3850500.00\n"
     ]
    }
   ],
   "source": [
    "# Grouping by ID and First Name, and summing the 'Cost' for each employee\n",
    "TotalProjCost = final_df.groupby(['ID', 'First Name'])['Cost'].sum().reset_index()\n",
    "\n",
    "# Renaming 'Cost' column to 'Total cost'\n",
    "TotalProjCost.rename(columns={'Cost': 'Total cost'}, inplace=True)\n",
    "\n",
    "# Displaying the new DataFrame\n",
    "print(TotalProjCost)"
   ]
  },
  {
   "cell_type": "code",
   "execution_count": null,
   "id": "704f990b-bf1a-439b-815c-df9714e67823",
   "metadata": {},
   "outputs": [],
   "source": []
  },
  {
   "cell_type": "code",
   "execution_count": null,
   "id": "64d9712f-7002-43f0-a5e5-f4249699cbb9",
   "metadata": {},
   "outputs": [],
   "source": [
    "#Task 10\n",
    "#Print all the employee details whose city name contains the letter “o” in it"
   ]
  },
  {
   "cell_type": "code",
   "execution_count": 240,
   "id": "b58aab34-aebc-44b1-89cf-412c0ac472e8",
   "metadata": {},
   "outputs": [
    {
     "name": "stdout",
     "output_type": "stream",
     "text": [
      "     ID Gender     City  Age First Name  Last Name\n",
      "1  A002      F   London   27      Alice  Luxumberg\n",
      "3  A004      F  Newyork   31       Nina      Adgra\n"
     ]
    }
   ],
   "source": [
    "# Filtering employees whose city contains the letter \"o\"\n",
    "filtered_employees = employee_df[employee_df['City'].str.contains('o', case=False, na=False)]\n",
    "\n",
    "# Displaying the filtered DataFrame\n",
    "print(filtered_employees)\n"
   ]
  },
  {
   "cell_type": "code",
   "execution_count": null,
   "id": "31c78081-26cc-44f2-8639-afcbacb4cc05",
   "metadata": {},
   "outputs": [],
   "source": []
  }
 ],
 "metadata": {
  "kernelspec": {
   "display_name": "Python [conda env:base] *",
   "language": "python",
   "name": "conda-base-py"
  },
  "language_info": {
   "codemirror_mode": {
    "name": "ipython",
    "version": 3
   },
   "file_extension": ".py",
   "mimetype": "text/x-python",
   "name": "python",
   "nbconvert_exporter": "python",
   "pygments_lexer": "ipython3",
   "version": "3.12.7"
  }
 },
 "nbformat": 4,
 "nbformat_minor": 5
}
